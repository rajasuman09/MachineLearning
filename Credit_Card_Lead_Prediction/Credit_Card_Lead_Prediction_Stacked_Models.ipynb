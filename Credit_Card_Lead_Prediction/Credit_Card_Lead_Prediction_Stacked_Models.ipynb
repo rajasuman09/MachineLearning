{
 "cells": [
  {
   "cell_type": "markdown",
   "metadata": {},
   "source": [
    "# Credit Card Lead Prediction"
   ]
  },
  {
   "cell_type": "code",
   "execution_count": 70,
   "metadata": {
    "execution": {
     "iopub.execute_input": "2021-05-30T14:11:36.068036Z",
     "iopub.status.busy": "2021-05-30T14:11:36.067622Z",
     "iopub.status.idle": "2021-05-30T14:11:36.082322Z",
     "shell.execute_reply": "2021-05-30T14:11:36.078881Z",
     "shell.execute_reply.started": "2021-05-30T14:11:36.067957Z"
    },
    "id": "g6Sb_X-qU3dr"
   },
   "outputs": [],
   "source": [
    "# !pip install catboost"
   ]
  },
  {
   "cell_type": "markdown",
   "metadata": {},
   "source": [
    "##  Import the required libraries after installing the required packages"
   ]
  },
  {
   "cell_type": "code",
   "execution_count": 71,
   "metadata": {
    "execution": {
     "iopub.execute_input": "2021-05-30T14:11:36.084880Z",
     "iopub.status.busy": "2021-05-30T14:11:36.084197Z",
     "iopub.status.idle": "2021-05-30T14:11:40.786257Z",
     "shell.execute_reply": "2021-05-30T14:11:40.785424Z",
     "shell.execute_reply.started": "2021-05-30T14:11:36.084611Z"
    },
    "id": "8nNI3X-WJf5C"
   },
   "outputs": [],
   "source": [
    "import numpy as np\n",
    "from numpy import std, mean\n",
    "import pandas as pd\n",
    "from sklearn.model_selection import cross_val_score\n",
    "from sklearn.model_selection import GridSearchCV\n",
    "from sklearn.model_selection import RepeatedStratifiedKFold\n",
    "from sklearn.ensemble import RandomForestClassifier, ExtraTreesClassifier, StackingClassifier\n",
    "from sklearn.experimental import enable_hist_gradient_boosting\n",
    "from sklearn.ensemble import HistGradientBoostingClassifier\n",
    "from matplotlib import pyplot as plt\n",
    "from imblearn.over_sampling import SMOTE\n",
    "from sklearn.preprocessing import OrdinalEncoder, LabelEncoder\n",
    "from sklearn.model_selection import train_test_split\n",
    "from sklearn.preprocessing import StandardScaler\n",
    "from sklearn.metrics import classification_report, accuracy_score, roc_auc_score, precision_score, recall_score, f1_score, roc_curve\n",
    "import xgboost as xgb\n",
    "from catboost import CatBoostClassifier\n",
    "from xgboost import XGBClassifier\n",
    "from lightgbm import LGBMClassifier\n",
    "from tpot import TPOTClassifier\n",
    "import warnings\n",
    "warnings.filterwarnings('always')\n",
    "warnings.filterwarnings('ignore')"
   ]
  },
  {
   "cell_type": "markdown",
   "metadata": {},
   "source": [
    "## Load the train and test data sets"
   ]
  },
  {
   "cell_type": "code",
   "execution_count": 72,
   "metadata": {
    "execution": {
     "iopub.execute_input": "2021-05-30T14:11:40.788293Z",
     "iopub.status.busy": "2021-05-30T14:11:40.787981Z",
     "iopub.status.idle": "2021-05-30T14:11:41.376254Z",
     "shell.execute_reply": "2021-05-30T14:11:41.375468Z",
     "shell.execute_reply.started": "2021-05-30T14:11:40.788267Z"
    },
    "id": "Co2Eg8NyKTJV"
   },
   "outputs": [],
   "source": [
    "# Provide the required paths here\n",
    "data = pd.read_csv(r\"C:\\Users\\admin\\Documents\\Python Scripts\\Learning\\Datasets\\Credit_Card_Lead_Prediction\\train_s3TEQDk.csv\")\n",
    "test_data = pd.read_csv(r\"C:\\Users\\admin\\Documents\\Python Scripts\\Learning\\Datasets\\Credit_Card_Lead_Prediction\\test_mSzZ8RL.csv\")"
   ]
  },
  {
   "cell_type": "code",
   "execution_count": 73,
   "metadata": {
    "execution": {
     "iopub.execute_input": "2021-05-30T14:11:41.378068Z",
     "iopub.status.busy": "2021-05-30T14:11:41.377657Z",
     "iopub.status.idle": "2021-05-30T14:11:41.404669Z",
     "shell.execute_reply": "2021-05-30T14:11:41.403955Z",
     "shell.execute_reply.started": "2021-05-30T14:11:41.378026Z"
    },
    "id": "qOK6lH61KsFA"
   },
   "outputs": [],
   "source": [
    "# Make a copy of the loaded training data\n",
    "\n",
    "X = data.copy()"
   ]
  },
  {
   "cell_type": "code",
   "execution_count": 74,
   "metadata": {
    "execution": {
     "iopub.execute_input": "2021-05-30T14:11:41.406389Z",
     "iopub.status.busy": "2021-05-30T14:11:41.405902Z",
     "iopub.status.idle": "2021-05-30T14:11:41.444832Z",
     "shell.execute_reply": "2021-05-30T14:11:41.444019Z",
     "shell.execute_reply.started": "2021-05-30T14:11:41.406350Z"
    },
    "id": "u0bhmAgpKjXr"
   },
   "outputs": [],
   "source": [
    "# Drop the ID column\n",
    "\n",
    "X.drop(\"ID\", axis=1,inplace=True)\n",
    "test_data.drop(\"ID\", axis=1,inplace=True)"
   ]
  },
  {
   "cell_type": "markdown",
   "metadata": {
    "execution": {
     "iopub.execute_input": "2021-05-30T14:11:41.718679Z",
     "iopub.status.busy": "2021-05-30T14:11:41.718264Z",
     "iopub.status.idle": "2021-05-30T14:11:41.722091Z",
     "shell.execute_reply": "2021-05-30T14:11:41.721289Z",
     "shell.execute_reply.started": "2021-05-30T14:11:41.718638Z"
    },
    "id": "V8v4PE6fLm3u"
   },
   "source": [
    "## Exploratory Data Analysis"
   ]
  },
  {
   "cell_type": "code",
   "execution_count": 75,
   "metadata": {},
   "outputs": [
    {
     "data": {
      "text/plain": [
       "<matplotlib.axes._subplots.AxesSubplot at 0x1b30b2d8c48>"
      ]
     },
     "execution_count": 75,
     "metadata": {},
     "output_type": "execute_result"
    },
    {
     "data": {
      "image/png": "[encoded data removed]",
      "text/plain": [
       "<Figure size 432x288 with 1 Axes>"
      ]
     },
     "metadata": {
      "needs_background": "light"
     },
     "output_type": "display_data"
    }
   ],
   "source": [
    "X['Avg_Account_Balance'].hist(bins=10)"
   ]
  },
  {
   "cell_type": "code",
   "execution_count": 76,
   "metadata": {},
   "outputs": [
    {
     "data": {
      "text/plain": [
       "<matplotlib.axes._subplots.AxesSubplot at 0x1b31da4f348>"
      ]
     },
     "execution_count": 76,
     "metadata": {},
     "output_type": "execute_result"
    },
    {
     "data": {
      "image/png": "[encoded data removed]",
      "text/plain": [
       "<Figure size 432x288 with 1 Axes>"
      ]
     },
     "metadata": {
      "needs_background": "light"
     },
     "output_type": "display_data"
    }
   ],
   "source": [
    "np.log(X['Avg_Account_Balance']).hist(bins=25)"
   ]
  },
  {
   "cell_type": "markdown",
   "metadata": {},
   "source": [
    "## Data Preparation"
   ]
  },
  {
   "cell_type": "markdown",
   "metadata": {},
   "source": [
    "### Missing value imputation"
   ]
  },
  {
   "cell_type": "code",
   "execution_count": 77,
   "metadata": {},
   "outputs": [
    {
     "data": {
      "text/plain": [
       "Gender                     0\n",
       "Age                        0\n",
       "Region_Code                0\n",
       "Occupation                 0\n",
       "Channel_Code               0\n",
       "Vintage                    0\n",
       "Credit_Product         29325\n",
       "Avg_Account_Balance        0\n",
       "Is_Active                  0\n",
       "Is_Lead                    0\n",
       "dtype: int64"
      ]
     },
     "execution_count": 77,
     "metadata": {},
     "output_type": "execute_result"
    }
   ],
   "source": [
    "np.sum(X.isnull())"
   ]
  },
  {
   "cell_type": "code",
   "execution_count": 78,
   "metadata": {
    "execution": {
     "iopub.execute_input": "2021-05-30T14:11:41.446528Z",
     "iopub.status.busy": "2021-05-30T14:11:41.446044Z",
     "iopub.status.idle": "2021-05-30T14:11:41.540608Z",
     "shell.execute_reply": "2021-05-30T14:11:41.539881Z",
     "shell.execute_reply.started": "2021-05-30T14:11:41.446492Z"
    },
    "id": "Ks2xOoVfK1uG"
   },
   "outputs": [],
   "source": [
    "# After checking model performance with 'mode' imputation, I decided to change it to a third category instead of 'mode'\n",
    "\n",
    "X['Credit_Product'] = X['Credit_Product'].astype(str)\n",
    "test_data['Credit_Product'] = test_data['Credit_Product'].astype(str)"
   ]
  },
  {
   "cell_type": "markdown",
   "metadata": {},
   "source": [
    "### Feature Encoding"
   ]
  },
  {
   "cell_type": "code",
   "execution_count": 79,
   "metadata": {
    "execution": {
     "iopub.execute_input": "2021-05-30T14:11:41.542172Z",
     "iopub.status.busy": "2021-05-30T14:11:41.541846Z",
     "iopub.status.idle": "2021-05-30T14:11:41.715577Z",
     "shell.execute_reply": "2021-05-30T14:11:41.714771Z",
     "shell.execute_reply.started": "2021-05-30T14:11:41.542139Z"
    },
    "id": "Cu-ia4CKK8Jt"
   },
   "outputs": [],
   "source": [
    "# Encoding the occupation group based on the income and more chances of lead.\n",
    "# Used ordinal encoding to preserve the weightage of different occupation groups\n",
    "\n",
    "oe = OrdinalEncoder(categories=[['Other', 'Salaried', 'Self_Employed', 'Entrepreneur']])\n",
    "X['OccupationGroup'] =  oe.fit_transform(X.loc[:,['Occupation']])\n",
    "test_data['OccupationGroup'] =  oe.fit_transform(test_data.loc[:,['Occupation']])\n",
    "X.drop('Occupation', axis=1,inplace=True)\n",
    "test_data.drop('Occupation', axis=1,inplace=True)"
   ]
  },
  {
   "cell_type": "code",
   "execution_count": 80,
   "metadata": {
    "execution": {
     "iopub.execute_input": "2021-05-30T14:11:41.724256Z",
     "iopub.status.busy": "2021-05-30T14:11:41.723717Z",
     "iopub.status.idle": "2021-05-30T14:11:42.308231Z",
     "shell.execute_reply": "2021-05-30T14:11:42.307402Z",
     "shell.execute_reply.started": "2021-05-30T14:11:41.724218Z"
    },
    "id": "qRYN8cGvLVyP"
   },
   "outputs": [],
   "source": [
    "# Used label encoding for remaining categorical features\n",
    "\n",
    "le = LabelEncoder()\n",
    "\n",
    "X['Gender']= le.fit_transform(X['Gender'])\n",
    "# X['Occupation']= le.fit_transform(X['Occupation'])\n",
    "X['Credit_Product']= le.fit_transform(X['Credit_Product'])\n",
    "# X['Vintage']= le.fit_transform(X['Vintage'])\n",
    "X['Region_Code']= le.fit_transform(X['Region_Code'])\n",
    "X['Channel_Code']= le.fit_transform(X['Channel_Code'])\n",
    "X['Age']= le.fit_transform(X['Age'])\n",
    "X['Is_Active']= le.fit_transform(X['Is_Active'])\n",
    "\n",
    "test_data['Gender']= le.fit_transform(test_data['Gender'])\n",
    "# test_data['Occupation']= le.fit_transform(test_data['Occupation'])\n",
    "test_data['Credit_Product']= le.fit_transform(test_data['Credit_Product'])\n",
    "# test_data['Vintage']= le.fit_transform(test_data['Vintage'])\n",
    "test_data['Region_Code']= le.fit_transform(test_data['Region_Code'])\n",
    "test_data['Channel_Code']= le.fit_transform(test_data['Channel_Code'])\n",
    "test_data['Age']= le.fit_transform(test_data['Age'])\n",
    "test_data['Is_Active']= le.fit_transform(test_data['Is_Active'])"
   ]
  },
  {
   "cell_type": "markdown",
   "metadata": {},
   "source": [
    "### Seperation of target label"
   ]
  },
  {
   "cell_type": "code",
   "execution_count": 81,
   "metadata": {
    "execution": {
     "iopub.execute_input": "2021-05-30T14:11:42.310007Z",
     "iopub.status.busy": "2021-05-30T14:11:42.309522Z",
     "iopub.status.idle": "2021-05-30T14:11:42.315576Z",
     "shell.execute_reply": "2021-05-30T14:11:42.314797Z",
     "shell.execute_reply.started": "2021-05-30T14:11:42.309971Z"
    },
    "id": "tkZZQbmbLu1m"
   },
   "outputs": [],
   "source": [
    "# Pop out the target variable\n",
    "\n",
    "y = X.pop('Is_Lead')"
   ]
  },
  {
   "cell_type": "markdown",
   "metadata": {},
   "source": [
    "### Class Balancing"
   ]
  },
  {
   "cell_type": "code",
   "execution_count": 82,
   "metadata": {
    "execution": {
     "iopub.execute_input": "2021-05-30T14:11:42.317403Z",
     "iopub.status.busy": "2021-05-30T14:11:42.316853Z",
     "iopub.status.idle": "2021-05-30T14:11:42.324337Z",
     "shell.execute_reply": "2021-05-30T14:11:42.323497Z",
     "shell.execute_reply.started": "2021-05-30T14:11:42.317367Z"
    },
    "id": "P9cV7BhAN4GV"
   },
   "outputs": [],
   "source": [
    "# Store the features\n",
    "\n",
    "features = X.columns"
   ]
  },
  {
   "cell_type": "code",
   "execution_count": 83,
   "metadata": {
    "execution": {
     "iopub.execute_input": "2021-05-30T14:11:42.325949Z",
     "iopub.status.busy": "2021-05-30T14:11:42.325467Z",
     "iopub.status.idle": "2021-05-30T14:11:42.897838Z",
     "shell.execute_reply": "2021-05-30T14:11:42.896951Z",
     "shell.execute_reply.started": "2021-05-30T14:11:42.325903Z"
    },
    "id": "LB-k6HvjLyOx"
   },
   "outputs": [],
   "source": [
    "# Use oversampling technique to address class imbalance problem in the dataset\n",
    "\n",
    "oversample = SMOTE()\n",
    "X, y = oversample.fit_resample(X, y)"
   ]
  },
  {
   "cell_type": "code",
   "execution_count": 84,
   "metadata": {
    "execution": {
     "iopub.execute_input": "2021-05-30T14:11:42.899914Z",
     "iopub.status.busy": "2021-05-30T14:11:42.899364Z",
     "iopub.status.idle": "2021-05-30T14:11:42.903508Z",
     "shell.execute_reply": "2021-05-30T14:11:42.902812Z",
     "shell.execute_reply.started": "2021-05-30T14:11:42.899876Z"
    },
    "id": "72QkpbFxNvri"
   },
   "outputs": [],
   "source": [
    "# Convert back to dataframe after oversampling if required\n",
    "\n",
    "X = pd.DataFrame(X,columns=features)"
   ]
  },
  {
   "cell_type": "markdown",
   "metadata": {},
   "source": [
    "### Train & Validation Data Splits"
   ]
  },
  {
   "cell_type": "code",
   "execution_count": 85,
   "metadata": {
    "execution": {
     "iopub.execute_input": "2021-05-30T14:11:42.905192Z",
     "iopub.status.busy": "2021-05-30T14:11:42.904676Z",
     "iopub.status.idle": "2021-05-30T14:11:43.261543Z",
     "shell.execute_reply": "2021-05-30T14:11:43.260695Z",
     "shell.execute_reply.started": "2021-05-30T14:11:42.905160Z"
    }
   },
   "outputs": [],
   "source": [
    "trainX, validX, trainY, validY = train_test_split(X,y, test_size=0.2,stratify=y,shuffle=True)"
   ]
  },
  {
   "cell_type": "code",
   "execution_count": 86,
   "metadata": {
    "execution": {
     "iopub.execute_input": "2021-05-30T14:11:43.267686Z",
     "iopub.status.busy": "2021-05-30T14:11:43.265726Z",
     "iopub.status.idle": "2021-05-30T14:11:43.275639Z",
     "shell.execute_reply": "2021-05-30T14:11:43.274888Z",
     "shell.execute_reply.started": "2021-05-30T14:11:43.267647Z"
    },
    "id": "pIPsrdIgMAOu"
   },
   "outputs": [],
   "source": [
    "testX = test_data.copy()"
   ]
  },
  {
   "cell_type": "markdown",
   "metadata": {},
   "source": [
    "### Addressing skewness of the data"
   ]
  },
  {
   "cell_type": "code",
   "execution_count": 87,
   "metadata": {
    "execution": {
     "iopub.execute_input": "2021-05-30T14:11:43.282170Z",
     "iopub.status.busy": "2021-05-30T14:11:43.279885Z",
     "iopub.status.idle": "2021-05-30T14:11:43.318231Z",
     "shell.execute_reply": "2021-05-30T14:11:43.317339Z",
     "shell.execute_reply.started": "2021-05-30T14:11:43.282134Z"
    },
    "id": "GYdNuOgLMGN1"
   },
   "outputs": [],
   "source": [
    "# Using log transformation on the account balance feature to remove skewedness which will be helpful\n",
    "# for gradient boosting algorithms\n",
    "\n",
    "# X['Avg_Account_Balance'] = np.log(X['Avg_Account_Balance'])\n",
    "trainX['Avg_Account_Balance'] = np.log(trainX['Avg_Account_Balance'])\n",
    "validX['Avg_Account_Balance'] = np.log(validX['Avg_Account_Balance'])\n",
    "testX['Avg_Account_Balance'] = np.log(testX['Avg_Account_Balance'])"
   ]
  },
  {
   "cell_type": "markdown",
   "metadata": {},
   "source": [
    "### Standardize the account balance column for smooth gradient descent"
   ]
  },
  {
   "cell_type": "code",
   "execution_count": 88,
   "metadata": {
    "execution": {
     "iopub.execute_input": "2021-05-30T14:11:43.324130Z",
     "iopub.status.busy": "2021-05-30T14:11:43.322193Z",
     "iopub.status.idle": "2021-05-30T14:11:43.339030Z",
     "shell.execute_reply": "2021-05-30T14:11:43.338151Z",
     "shell.execute_reply.started": "2021-05-30T14:11:43.324091Z"
    },
    "id": "C361aiTzOQIA"
   },
   "outputs": [],
   "source": [
    "# standard_scaler = StandardScaler().fit(X.loc[:,['Avg_Account_Balance']])\n",
    "standard_scaler = StandardScaler().fit(trainX.loc[:,['Avg_Account_Balance']])"
   ]
  },
  {
   "cell_type": "code",
   "execution_count": 89,
   "metadata": {
    "execution": {
     "iopub.execute_input": "2021-05-30T14:11:43.344491Z",
     "iopub.status.busy": "2021-05-30T14:11:43.342585Z",
     "iopub.status.idle": "2021-05-30T14:11:43.359605Z",
     "shell.execute_reply": "2021-05-30T14:11:43.358599Z",
     "shell.execute_reply.started": "2021-05-30T14:11:43.344454Z"
    },
    "id": "9d61NQgROjl6"
   },
   "outputs": [],
   "source": [
    "# X['Avg_Account_Balance'] = standard_scaler.transform(X.loc[:,['Avg_Account_Balance']])\n",
    "trainX['Avg_Account_Balance'] = standard_scaler.transform(trainX.loc[:,['Avg_Account_Balance']])\n",
    "validX['Avg_Account_Balance'] = standard_scaler.transform(validX.loc[:,['Avg_Account_Balance']])"
   ]
  },
  {
   "cell_type": "code",
   "execution_count": 90,
   "metadata": {
    "execution": {
     "iopub.execute_input": "2021-05-30T14:11:43.365141Z",
     "iopub.status.busy": "2021-05-30T14:11:43.363200Z",
     "iopub.status.idle": "2021-05-30T14:11:43.385158Z",
     "shell.execute_reply": "2021-05-30T14:11:43.384348Z",
     "shell.execute_reply.started": "2021-05-30T14:11:43.365105Z"
    },
    "id": "33a4ubsvOq7-"
   },
   "outputs": [],
   "source": [
    "standard_scaler = StandardScaler().fit(testX.loc[:,['Avg_Account_Balance']])\n",
    "testX['Avg_Account_Balance'] = standard_scaler.transform(testX.loc[:,['Avg_Account_Balance']])"
   ]
  },
  {
   "cell_type": "markdown",
   "metadata": {},
   "source": [
    "## Model Evaluation"
   ]
  },
  {
   "cell_type": "code",
   "execution_count": 91,
   "metadata": {
    "execution": {
     "iopub.execute_input": "2021-05-30T14:11:43.390647Z",
     "iopub.status.busy": "2021-05-30T14:11:43.388720Z",
     "iopub.status.idle": "2021-05-30T14:11:43.397026Z",
     "shell.execute_reply": "2021-05-30T14:11:43.396247Z",
     "shell.execute_reply.started": "2021-05-30T14:11:43.390610Z"
    },
    "id": "XIy19cAwPFuU"
   },
   "outputs": [],
   "source": [
    "def generate_model_report(y_actual, y_predicted):\n",
    "    print(\"Accuracy = \" , accuracy_score(y_actual, y_predicted))\n",
    "    print(\"Precision = \" ,precision_score(y_actual, y_predicted))\n",
    "    print(\"Recall = \" ,recall_score(y_actual, y_predicted))\n",
    "    print(\"F1 Score = \" ,f1_score(y_actual, y_predicted))\n",
    "    pass"
   ]
  },
  {
   "cell_type": "code",
   "execution_count": 92,
   "metadata": {
    "execution": {
     "iopub.execute_input": "2021-05-30T14:11:43.403624Z",
     "iopub.status.busy": "2021-05-30T14:11:43.401461Z",
     "iopub.status.idle": "2021-05-30T14:11:43.410588Z",
     "shell.execute_reply": "2021-05-30T14:11:43.409823Z",
     "shell.execute_reply.started": "2021-05-30T14:11:43.403588Z"
    },
    "id": "LySxTPR7PJDB"
   },
   "outputs": [],
   "source": [
    "def generate_auc_roc_curve(clf, X_test, Y_test):\n",
    "    y_pred_proba = clf.predict_proba(X_test)[:, 1]\n",
    "    fpr, tpr, thresholds = roc_curve(Y_test,  y_pred_proba)\n",
    "    auc = roc_auc_score(Y_test, y_pred_proba)\n",
    "    plt.plot(fpr,tpr,label=\"AUC ROC Curve with Area Under the curve =\"+str(auc))\n",
    "    plt.legend(loc=4)\n",
    "    plt.show()\n",
    "    pass"
   ]
  },
  {
   "cell_type": "markdown",
   "metadata": {},
   "source": [
    "## Using AutoML to find the best model "
   ]
  },
  {
   "cell_type": "code",
   "execution_count": null,
   "metadata": {
    "execution": {
     "iopub.execute_input": "2021-05-30T14:11:47.951905Z",
     "iopub.status.busy": "2021-05-30T14:11:47.951568Z"
    }
   },
   "outputs": [
    {
     "data": {
      "application/vnd.jupyter.widget-view+json": {
       "model_id": "d800d53949e9467ca4bf3938aaac5bde",
       "version_major": 2,
       "version_minor": 0
      },
      "text/plain": [
       "Optimization Progress:   0%|          | 0/300 [00:00<?, ?pipeline/s]"
      ]
     },
     "metadata": {},
     "output_type": "display_data"
    }
   ],
   "source": [
    "# Following code used AutoML to search for best ML. However, as it is taking lot of time, I left it for future use\n",
    "\n",
    "\n",
    "cv = RepeatedStratifiedKFold(n_splits=10, n_repeats=3, random_state=1)\n",
    "\n",
    "model = TPOTClassifier(generations=5, population_size=50, cv=cv, scoring='roc_auc', verbosity=2, random_state=1, n_jobs=-1)\n",
    "# perform the search\n",
    "model.fit(trainX, trainY)"
   ]
  },
  {
   "cell_type": "markdown",
   "metadata": {},
   "source": [
    "## Building Stacked Models with several well performed models"
   ]
  },
  {
   "cell_type": "code",
   "execution_count": 93,
   "metadata": {
    "execution": {
     "iopub.execute_input": "2021-05-30T13:25:14.229945Z",
     "iopub.status.busy": "2021-05-30T13:25:14.229542Z",
     "iopub.status.idle": "2021-05-30T13:25:14.240583Z",
     "shell.execute_reply": "2021-05-30T13:25:14.239795Z",
     "shell.execute_reply.started": "2021-05-30T13:25:14.229907Z"
    },
    "id": "eYQKPLXwPV9B"
   },
   "outputs": [],
   "source": [
    "# get a stacking ensemble of models\n",
    "\n",
    "def get_stacking():\n",
    "    # define the base models\n",
    "    level0 = list()\n",
    "    level0.append(('xgb', XGBClassifier())) #max_depth=10,n_estimators=100,min_child_weight=1,learning_rate=0.1,gamma=0,subsample=1,colsample_bytree=1,objective='binary:logistic')))\n",
    "    level0.append(('cat', CatBoostClassifier(iterations=2000))) #, task_type=\"GPU\", devices='0:1')))\n",
    "    level0.append(('hist', HistGradientBoostingClassifier()))\n",
    "    level0.append(('lgb', LGBMClassifier()))\n",
    "    level0.append(('ext', ExtraTreesClassifier()))\n",
    "    level0.append(('rgb', RandomForestClassifier(n_estimators=100)))\n",
    "\n",
    "    # define meta learner model\n",
    "    level1 = XGBClassifier()\n",
    "    \n",
    "    # define the hyperparameters. Given lot of hyper parameters is consuming lot of RAM and the session is getting crashed.\n",
    "    # Hence commented out some parameters\n",
    "    \n",
    "    params = {'xgb__max_depth': [5,10,20],\n",
    "              'xgb__gamma': [0.1,0.2,0.3],\n",
    "              'xgb__n_estimators': [50,100,200,300],\n",
    "#               'final_estimator__gamma': [0.1,0.2,0.3],\n",
    "#               'final_estimator__n_estimators': [50,100,200,300],\n",
    "#               'ext__max_depth': [5,10,20],\n",
    "              'xgb__subsample':[i/10.0 for i in range(6,10)],\n",
    "              'xgb__colsample_bytree':[i/10.0 for i in range(6,10)],\n",
    "#               'final_estimator__subsample':[i/10.0 for i in range(6,10)],\n",
    "#               'final_estimator__colsample_bytree':[i/10.0 for i in range(6,10)],\n",
    "              'xgb__reg_alpha':[1e-5, 1e-2, 0.1, 1, 100],\n",
    "#               'final_estimator__reg_alpha':[1e-5, 1e-2, 0.1, 1, 100]\n",
    "             }\n",
    "    \n",
    "\n",
    "#Need to change here if want to check for best parameters using Grid Search CV\n",
    "\n",
    "    model = StackingClassifier(estimators=level0, final_estimator=level1)\n",
    "#     model = GridSearchCV(estimator=sclf, param_grid=params,verbose=2, cv=5,n_jobs=-1)\n",
    "    return model"
   ]
  },
  {
   "cell_type": "code",
   "execution_count": null,
   "metadata": {
    "execution": {
     "iopub.execute_input": "2021-05-30T13:25:14.244454Z",
     "iopub.status.busy": "2021-05-30T13:25:14.244135Z",
     "iopub.status.idle": "2021-05-30T13:25:14.251531Z",
     "shell.execute_reply": "2021-05-30T13:25:14.25072Z",
     "shell.execute_reply.started": "2021-05-30T13:25:14.244417Z"
    },
    "id": "yw7eqHFYUKLE"
   },
   "outputs": [],
   "source": [
    "# evaluate a give model using cross-validation\n",
    "\n",
    "def evaluate_model(model, X, y):\n",
    "    cv = RepeatedStratifiedKFold(n_splits=10, n_repeats=3, random_state=1)\n",
    "    scores = cross_val_score(model, X, y, scoring='roc_auc', cv=cv, n_jobs=-1, error_score='raise')\n",
    "    return scores"
   ]
  },
  {
   "cell_type": "code",
   "execution_count": null,
   "metadata": {
    "execution": {
     "iopub.execute_input": "2021-05-30T13:25:14.27072Z",
     "iopub.status.busy": "2021-05-30T13:25:14.270325Z",
     "iopub.status.idle": "2021-05-30T13:25:14.279031Z",
     "shell.execute_reply": "2021-05-30T13:25:14.278291Z",
     "shell.execute_reply.started": "2021-05-30T13:25:14.270682Z"
    }
   },
   "outputs": [],
   "source": [
    "# This runs the above functions to evaluate model using RKFold\n",
    "# Only kept for testing purposes\n",
    "\n",
    "# scores = evaluate_model(model, trainX, trainY)\n",
    "# print('>%s %.3f (%.3f)' % (name, mean(scores), std(scores)))"
   ]
  },
  {
   "cell_type": "code",
   "execution_count": 42,
   "metadata": {
    "execution": {
     "iopub.execute_input": "2021-05-30T13:25:14.254108Z",
     "iopub.status.busy": "2021-05-30T13:25:14.253421Z",
     "iopub.status.idle": "2021-05-30T13:25:14.259498Z",
     "shell.execute_reply": "2021-05-30T13:25:14.25879Z",
     "shell.execute_reply.started": "2021-05-30T13:25:14.254069Z"
    }
   },
   "outputs": [],
   "source": [
    "# del model"
   ]
  },
  {
   "cell_type": "code",
   "execution_count": 66,
   "metadata": {
    "execution": {
     "iopub.execute_input": "2021-05-30T13:25:14.26149Z",
     "iopub.status.busy": "2021-05-30T13:25:14.261052Z",
     "iopub.status.idle": "2021-05-30T13:25:14.268943Z",
     "shell.execute_reply": "2021-05-30T13:25:14.268049Z",
     "shell.execute_reply.started": "2021-05-30T13:25:14.261451Z"
    },
    "id": "yiCba7plUQVD",
    "outputId": "4a3f63f1-4714-4dd2-e735-d411724d4315"
   },
   "outputs": [],
   "source": [
    "# get the compiled stacked model\n",
    "\n",
    "model = get_stacking()"
   ]
  },
  {
   "cell_type": "code",
   "execution_count": 67,
   "metadata": {
    "execution": {
     "iopub.execute_input": "2021-05-30T13:25:23.895081Z",
     "iopub.status.busy": "2021-05-30T13:25:23.894706Z"
    },
    "scrolled": true
   },
   "outputs": [
    {
     "name": "stdout",
     "output_type": "stream",
     "text": [
      "Learning rate set to 0.06231\n",
      "0:\tlearn: 0.6330357\ttotal: 119ms\tremaining: 3m 56s\n",
      "1:\tlearn: 0.5866667\ttotal: 247ms\tremaining: 4m 6s\n",
      "2:\tlearn: 0.5664397\ttotal: 359ms\tremaining: 3m 58s\n",
      "3:\tlearn: 0.5323824\ttotal: 482ms\tremaining: 4m\n",
      "4:\tlearn: 0.5182893\ttotal: 593ms\tremaining: 3m 56s\n",
      "5:\tlearn: 0.4951473\ttotal: 725ms\tremaining: 4m\n",
      "6:\tlearn: 0.4778606\ttotal: 858ms\tremaining: 4m 4s\n",
      "7:\tlearn: 0.4588768\ttotal: 987ms\tremaining: 4m 5s\n",
      "8:\tlearn: 0.4449473\ttotal: 1.11s\tremaining: 4m 6s\n",
      "9:\tlearn: 0.4376254\ttotal: 1.25s\tremaining: 4m 8s\n",
      "10:\tlearn: 0.4310808\ttotal: 1.35s\tremaining: 4m 4s\n",
      "11:\tlearn: 0.4253610\ttotal: 1.46s\tremaining: 4m 2s\n",
      "12:\tlearn: 0.4202794\ttotal: 1.57s\tremaining: 3m 59s\n",
      "13:\tlearn: 0.4158937\ttotal: 1.69s\tremaining: 4m\n",
      "14:\tlearn: 0.4118108\ttotal: 1.8s\tremaining: 3m 58s\n",
      "15:\tlearn: 0.4082818\ttotal: 1.91s\tremaining: 3m 56s\n",
      "16:\tlearn: 0.4040325\ttotal: 2.03s\tremaining: 3m 56s\n",
      "17:\tlearn: 0.4002918\ttotal: 2.16s\tremaining: 3m 57s\n",
      "18:\tlearn: 0.3932201\ttotal: 2.28s\tremaining: 3m 58s\n",
      "19:\tlearn: 0.3906271\ttotal: 2.39s\tremaining: 3m 56s\n",
      "20:\tlearn: 0.3876248\ttotal: 2.52s\tremaining: 3m 57s\n",
      "21:\tlearn: 0.3854694\ttotal: 2.66s\tremaining: 3m 59s\n",
      "22:\tlearn: 0.3807913\ttotal: 2.78s\tremaining: 3m 59s\n",
      "23:\tlearn: 0.3790179\ttotal: 2.89s\tremaining: 3m 57s\n",
      "24:\tlearn: 0.3752002\ttotal: 3.01s\tremaining: 3m 57s\n",
      "25:\tlearn: 0.3729724\ttotal: 3.14s\tremaining: 3m 58s\n",
      "26:\tlearn: 0.3714879\ttotal: 3.26s\tremaining: 3m 58s\n",
      "27:\tlearn: 0.3701523\ttotal: 3.39s\tremaining: 3m 58s\n",
      "28:\tlearn: 0.3648659\ttotal: 3.52s\tremaining: 3m 59s\n",
      "29:\tlearn: 0.3606935\ttotal: 3.65s\tremaining: 3m 59s\n",
      "30:\tlearn: 0.3594332\ttotal: 3.77s\tremaining: 3m 59s\n",
      "31:\tlearn: 0.3583168\ttotal: 3.88s\tremaining: 3m 58s\n",
      "32:\tlearn: 0.3568770\ttotal: 4s\tremaining: 3m 58s\n",
      "33:\tlearn: 0.3559595\ttotal: 4.11s\tremaining: 3m 57s\n",
      "34:\tlearn: 0.3551433\ttotal: 4.21s\tremaining: 3m 56s\n",
      "35:\tlearn: 0.3539221\ttotal: 4.33s\tremaining: 3m 56s\n",
      "36:\tlearn: 0.3511011\ttotal: 4.45s\tremaining: 3m 56s\n",
      "37:\tlearn: 0.3504643\ttotal: 4.57s\tremaining: 3m 56s\n",
      "38:\tlearn: 0.3498677\ttotal: 4.69s\tremaining: 3m 55s\n",
      "39:\tlearn: 0.3476453\ttotal: 4.81s\tremaining: 3m 55s\n",
      "40:\tlearn: 0.3468714\ttotal: 4.91s\tremaining: 3m 54s\n",
      "41:\tlearn: 0.3463696\ttotal: 5.07s\tremaining: 3m 56s\n",
      "42:\tlearn: 0.3457451\ttotal: 5.23s\tremaining: 3m 57s\n",
      "43:\tlearn: 0.3449543\ttotal: 5.36s\tremaining: 3m 58s\n",
      "44:\tlearn: 0.3441669\ttotal: 5.5s\tremaining: 3m 58s\n",
      "45:\tlearn: 0.3420116\ttotal: 5.66s\tremaining: 4m\n",
      "46:\tlearn: 0.3413295\ttotal: 5.78s\tremaining: 4m\n",
      "47:\tlearn: 0.3408880\ttotal: 5.88s\tremaining: 3m 59s\n",
      "48:\tlearn: 0.3403659\ttotal: 5.98s\tremaining: 3m 58s\n",
      "49:\tlearn: 0.3398459\ttotal: 6.09s\tremaining: 3m 57s\n",
      "50:\tlearn: 0.3393992\ttotal: 6.19s\tremaining: 3m 56s\n",
      "51:\tlearn: 0.3390416\ttotal: 6.34s\tremaining: 3m 57s\n",
      "52:\tlearn: 0.3386869\ttotal: 6.46s\tremaining: 3m 57s\n",
      "53:\tlearn: 0.3380606\ttotal: 6.61s\tremaining: 3m 58s\n",
      "54:\tlearn: 0.3369409\ttotal: 6.74s\tremaining: 3m 58s\n",
      "55:\tlearn: 0.3363265\ttotal: 6.86s\tremaining: 3m 58s\n",
      "56:\tlearn: 0.3356005\ttotal: 6.98s\tremaining: 3m 58s\n",
      "57:\tlearn: 0.3352578\ttotal: 7.09s\tremaining: 3m 57s\n",
      "58:\tlearn: 0.3349815\ttotal: 7.24s\tremaining: 3m 58s\n",
      "59:\tlearn: 0.3347242\ttotal: 7.37s\tremaining: 3m 58s\n",
      "60:\tlearn: 0.3344829\ttotal: 7.48s\tremaining: 3m 57s\n",
      "61:\tlearn: 0.3342946\ttotal: 7.58s\tremaining: 3m 56s\n",
      "62:\tlearn: 0.3334638\ttotal: 7.7s\tremaining: 3m 56s\n",
      "63:\tlearn: 0.3332073\ttotal: 7.8s\tremaining: 3m 56s\n",
      "64:\tlearn: 0.3317707\ttotal: 7.93s\tremaining: 3m 56s\n",
      "65:\tlearn: 0.3312937\ttotal: 8.06s\tremaining: 3m 56s\n",
      "66:\tlearn: 0.3310785\ttotal: 8.16s\tremaining: 3m 55s\n",
      "67:\tlearn: 0.3306633\ttotal: 8.29s\tremaining: 3m 55s\n",
      "68:\tlearn: 0.3304602\ttotal: 8.39s\tremaining: 3m 54s\n",
      "69:\tlearn: 0.3297064\ttotal: 8.52s\tremaining: 3m 54s\n",
      "70:\tlearn: 0.3295337\ttotal: 8.63s\tremaining: 3m 54s\n",
      "71:\tlearn: 0.3288225\ttotal: 8.74s\tremaining: 3m 54s\n",
      "72:\tlearn: 0.3281434\ttotal: 8.86s\tremaining: 3m 53s\n",
      "73:\tlearn: 0.3274734\ttotal: 8.99s\tremaining: 3m 53s\n",
      "74:\tlearn: 0.3271475\ttotal: 9.11s\tremaining: 3m 53s\n",
      "75:\tlearn: 0.3266740\ttotal: 9.23s\tremaining: 3m 53s\n",
      "76:\tlearn: 0.3265860\ttotal: 9.35s\tremaining: 3m 53s\n",
      "77:\tlearn: 0.3263130\ttotal: 9.48s\tremaining: 3m 53s\n",
      "78:\tlearn: 0.3261095\ttotal: 9.6s\tremaining: 3m 53s\n",
      "79:\tlearn: 0.3258888\ttotal: 9.72s\tremaining: 3m 53s\n",
      "80:\tlearn: 0.3252348\ttotal: 9.85s\tremaining: 3m 53s\n",
      "81:\tlearn: 0.3251047\ttotal: 9.96s\tremaining: 3m 52s\n",
      "82:\tlearn: 0.3244771\ttotal: 10.1s\tremaining: 3m 53s\n",
      "83:\tlearn: 0.3243184\ttotal: 10.2s\tremaining: 3m 52s\n",
      "84:\tlearn: 0.3238514\ttotal: 10.3s\tremaining: 3m 52s\n",
      "85:\tlearn: 0.3236396\ttotal: 10.5s\tremaining: 3m 53s\n",
      "86:\tlearn: 0.3235067\ttotal: 10.6s\tremaining: 3m 52s\n",
      "87:\tlearn: 0.3233411\ttotal: 10.7s\tremaining: 3m 52s\n",
      "88:\tlearn: 0.3231261\ttotal: 10.8s\tremaining: 3m 52s\n",
      "89:\tlearn: 0.3228450\ttotal: 11s\tremaining: 3m 52s\n",
      "90:\tlearn: 0.3226099\ttotal: 11.1s\tremaining: 3m 52s\n",
      "91:\tlearn: 0.3217777\ttotal: 11.2s\tremaining: 3m 52s\n",
      "92:\tlearn: 0.3215817\ttotal: 11.4s\tremaining: 3m 52s\n",
      "93:\tlearn: 0.3211090\ttotal: 11.5s\tremaining: 3m 52s\n",
      "94:\tlearn: 0.3209816\ttotal: 11.6s\tremaining: 3m 52s\n",
      "95:\tlearn: 0.3208435\ttotal: 11.7s\tremaining: 3m 52s\n",
      "96:\tlearn: 0.3202985\ttotal: 11.9s\tremaining: 3m 53s\n",
      "97:\tlearn: 0.3200935\ttotal: 12.1s\tremaining: 3m 53s\n",
      "98:\tlearn: 0.3196267\ttotal: 12.2s\tremaining: 3m 53s\n",
      "99:\tlearn: 0.3188037\ttotal: 12.3s\tremaining: 3m 53s\n",
      "100:\tlearn: 0.3185041\ttotal: 12.4s\tremaining: 3m 53s\n",
      "101:\tlearn: 0.3183974\ttotal: 12.6s\tremaining: 3m 53s\n",
      "102:\tlearn: 0.3183104\ttotal: 12.7s\tremaining: 3m 53s\n",
      "103:\tlearn: 0.3181995\ttotal: 12.8s\tremaining: 3m 53s\n",
      "104:\tlearn: 0.3180506\ttotal: 12.9s\tremaining: 3m 53s\n",
      "105:\tlearn: 0.3179678\ttotal: 13s\tremaining: 3m 52s\n",
      "106:\tlearn: 0.3178672\ttotal: 13.1s\tremaining: 3m 52s\n",
      "107:\tlearn: 0.3174718\ttotal: 13.3s\tremaining: 3m 52s\n",
      "108:\tlearn: 0.3174089\ttotal: 13.4s\tremaining: 3m 52s\n",
      "109:\tlearn: 0.3170616\ttotal: 13.5s\tremaining: 3m 52s\n",
      "110:\tlearn: 0.3162447\ttotal: 13.6s\tremaining: 3m 52s\n",
      "111:\tlearn: 0.3159836\ttotal: 13.8s\tremaining: 3m 52s\n",
      "112:\tlearn: 0.3158761\ttotal: 13.9s\tremaining: 3m 51s\n",
      "113:\tlearn: 0.3154492\ttotal: 14s\tremaining: 3m 51s\n",
      "114:\tlearn: 0.3150196\ttotal: 14.2s\tremaining: 3m 52s\n",
      "115:\tlearn: 0.3146200\ttotal: 14.3s\tremaining: 3m 52s\n",
      "116:\tlearn: 0.3142566\ttotal: 14.4s\tremaining: 3m 52s\n",
      "117:\tlearn: 0.3141794\ttotal: 14.6s\tremaining: 3m 52s\n",
      "118:\tlearn: 0.3139337\ttotal: 14.7s\tremaining: 3m 52s\n",
      "119:\tlearn: 0.3130782\ttotal: 14.8s\tremaining: 3m 52s\n",
      "120:\tlearn: 0.3128992\ttotal: 15s\tremaining: 3m 52s\n",
      "121:\tlearn: 0.3127934\ttotal: 15.1s\tremaining: 3m 52s\n",
      "122:\tlearn: 0.3127091\ttotal: 15.2s\tremaining: 3m 52s\n",
      "123:\tlearn: 0.3121959\ttotal: 15.3s\tremaining: 3m 52s\n",
      "124:\tlearn: 0.3118517\ttotal: 15.5s\tremaining: 3m 52s\n",
      "125:\tlearn: 0.3113019\ttotal: 15.6s\tremaining: 3m 52s\n",
      "126:\tlearn: 0.3112361\ttotal: 15.8s\tremaining: 3m 52s\n",
      "127:\tlearn: 0.3111631\ttotal: 15.9s\tremaining: 3m 52s\n",
      "128:\tlearn: 0.3110898\ttotal: 16s\tremaining: 3m 51s\n",
      "129:\tlearn: 0.3110358\ttotal: 16.1s\tremaining: 3m 51s\n",
      "130:\tlearn: 0.3109782\ttotal: 16.2s\tremaining: 3m 50s\n",
      "131:\tlearn: 0.3108222\ttotal: 16.3s\tremaining: 3m 50s\n",
      "132:\tlearn: 0.3104670\ttotal: 16.4s\tremaining: 3m 50s\n",
      "133:\tlearn: 0.3104088\ttotal: 16.5s\tremaining: 3m 50s\n",
      "134:\tlearn: 0.3102240\ttotal: 16.7s\tremaining: 3m 50s\n",
      "135:\tlearn: 0.3101329\ttotal: 16.8s\tremaining: 3m 50s\n",
      "136:\tlearn: 0.3100788\ttotal: 16.9s\tremaining: 3m 49s\n",
      "137:\tlearn: 0.3097313\ttotal: 17s\tremaining: 3m 49s\n",
      "138:\tlearn: 0.3096685\ttotal: 17.1s\tremaining: 3m 49s\n",
      "139:\tlearn: 0.3096170\ttotal: 17.2s\tremaining: 3m 49s\n",
      "140:\tlearn: 0.3095732\ttotal: 17.4s\tremaining: 3m 48s\n",
      "141:\tlearn: 0.3095240\ttotal: 17.5s\tremaining: 3m 48s\n",
      "142:\tlearn: 0.3094932\ttotal: 17.6s\tremaining: 3m 48s\n",
      "143:\tlearn: 0.3093394\ttotal: 17.7s\tremaining: 3m 48s\n",
      "144:\tlearn: 0.3092983\ttotal: 17.8s\tremaining: 3m 48s\n",
      "145:\tlearn: 0.3092481\ttotal: 17.9s\tremaining: 3m 47s\n",
      "146:\tlearn: 0.3089946\ttotal: 18.1s\tremaining: 3m 47s\n",
      "147:\tlearn: 0.3089180\ttotal: 18.2s\tremaining: 3m 47s\n",
      "148:\tlearn: 0.3088594\ttotal: 18.3s\tremaining: 3m 47s\n",
      "149:\tlearn: 0.3086977\ttotal: 18.4s\tremaining: 3m 47s\n",
      "150:\tlearn: 0.3086647\ttotal: 18.6s\tremaining: 3m 47s\n",
      "151:\tlearn: 0.3086399\ttotal: 18.7s\tremaining: 3m 47s\n",
      "152:\tlearn: 0.3083263\ttotal: 18.8s\tremaining: 3m 47s\n",
      "153:\tlearn: 0.3082627\ttotal: 18.9s\tremaining: 3m 47s\n",
      "154:\tlearn: 0.3079507\ttotal: 19.1s\tremaining: 3m 47s\n",
      "155:\tlearn: 0.3075704\ttotal: 19.2s\tremaining: 3m 47s\n",
      "156:\tlearn: 0.3075279\ttotal: 19.3s\tremaining: 3m 46s\n"
     ]
    },
    {
     "name": "stdout",
     "output_type": "stream",
     "text": [
      "157:\tlearn: 0.3074651\ttotal: 19.4s\tremaining: 3m 46s\n",
      "158:\tlearn: 0.3072321\ttotal: 19.6s\tremaining: 3m 46s\n",
      "159:\tlearn: 0.3070888\ttotal: 19.7s\tremaining: 3m 46s\n",
      "160:\tlearn: 0.3070405\ttotal: 19.9s\tremaining: 3m 46s\n",
      "161:\tlearn: 0.3068228\ttotal: 20s\tremaining: 3m 47s\n",
      "162:\tlearn: 0.3067893\ttotal: 20.1s\tremaining: 3m 46s\n",
      "163:\tlearn: 0.3065617\ttotal: 20.3s\tremaining: 3m 46s\n",
      "164:\tlearn: 0.3065317\ttotal: 20.4s\tremaining: 3m 46s\n",
      "165:\tlearn: 0.3064445\ttotal: 20.5s\tremaining: 3m 46s\n",
      "166:\tlearn: 0.3062485\ttotal: 20.7s\tremaining: 3m 46s\n",
      "167:\tlearn: 0.3062069\ttotal: 20.8s\tremaining: 3m 47s\n",
      "168:\tlearn: 0.3061791\ttotal: 21s\tremaining: 3m 47s\n",
      "169:\tlearn: 0.3058111\ttotal: 21.1s\tremaining: 3m 47s\n",
      "170:\tlearn: 0.3055128\ttotal: 21.2s\tremaining: 3m 47s\n",
      "171:\tlearn: 0.3051846\ttotal: 21.4s\tremaining: 3m 47s\n",
      "172:\tlearn: 0.3049961\ttotal: 21.5s\tremaining: 3m 47s\n",
      "173:\tlearn: 0.3049713\ttotal: 21.6s\tremaining: 3m 47s\n",
      "174:\tlearn: 0.3049365\ttotal: 21.7s\tremaining: 3m 46s\n",
      "175:\tlearn: 0.3047059\ttotal: 21.9s\tremaining: 3m 46s\n",
      "176:\tlearn: 0.3046804\ttotal: 22s\tremaining: 3m 46s\n",
      "177:\tlearn: 0.3046447\ttotal: 22.1s\tremaining: 3m 46s\n",
      "178:\tlearn: 0.3046130\ttotal: 22.2s\tremaining: 3m 45s\n",
      "179:\tlearn: 0.3045668\ttotal: 22.3s\tremaining: 3m 45s\n",
      "180:\tlearn: 0.3044257\ttotal: 22.4s\tremaining: 3m 45s\n",
      "181:\tlearn: 0.3043835\ttotal: 22.5s\tremaining: 3m 45s\n",
      "182:\tlearn: 0.3040866\ttotal: 22.7s\tremaining: 3m 44s\n",
      "183:\tlearn: 0.3035422\ttotal: 22.8s\tremaining: 3m 44s\n",
      "184:\tlearn: 0.3031994\ttotal: 22.9s\tremaining: 3m 44s\n",
      "185:\tlearn: 0.3031507\ttotal: 23s\tremaining: 3m 44s\n",
      "186:\tlearn: 0.3029355\ttotal: 23.1s\tremaining: 3m 44s\n",
      "187:\tlearn: 0.3026824\ttotal: 23.3s\tremaining: 3m 44s\n",
      "188:\tlearn: 0.3024215\ttotal: 23.4s\tremaining: 3m 44s\n",
      "189:\tlearn: 0.3020999\ttotal: 23.6s\tremaining: 3m 44s\n",
      "190:\tlearn: 0.3020692\ttotal: 23.7s\tremaining: 3m 44s\n",
      "191:\tlearn: 0.3020066\ttotal: 23.8s\tremaining: 3m 44s\n",
      "192:\tlearn: 0.3016292\ttotal: 24s\tremaining: 3m 44s\n",
      "193:\tlearn: 0.3014561\ttotal: 24.1s\tremaining: 3m 44s\n",
      "194:\tlearn: 0.3014036\ttotal: 24.2s\tremaining: 3m 44s\n",
      "195:\tlearn: 0.3013764\ttotal: 24.4s\tremaining: 3m 44s\n",
      "196:\tlearn: 0.3013402\ttotal: 24.6s\tremaining: 3m 44s\n",
      "197:\tlearn: 0.3012328\ttotal: 24.7s\tremaining: 3m 45s\n",
      "198:\tlearn: 0.3010404\ttotal: 24.8s\tremaining: 3m 44s\n",
      "199:\tlearn: 0.3008488\ttotal: 25s\tremaining: 3m 44s\n",
      "200:\tlearn: 0.3007708\ttotal: 25.1s\tremaining: 3m 44s\n",
      "201:\tlearn: 0.3005762\ttotal: 25.2s\tremaining: 3m 44s\n",
      "202:\tlearn: 0.3004106\ttotal: 25.3s\tremaining: 3m 44s\n",
      "203:\tlearn: 0.3003164\ttotal: 25.5s\tremaining: 3m 44s\n",
      "204:\tlearn: 0.3002917\ttotal: 25.7s\tremaining: 3m 44s\n",
      "205:\tlearn: 0.3000494\ttotal: 25.8s\tremaining: 3m 44s\n",
      "206:\tlearn: 0.3000307\ttotal: 25.9s\tremaining: 3m 44s\n",
      "207:\tlearn: 0.2999310\ttotal: 26.1s\tremaining: 3m 44s\n",
      "208:\tlearn: 0.2999073\ttotal: 26.2s\tremaining: 3m 44s\n",
      "209:\tlearn: 0.2997600\ttotal: 26.3s\tremaining: 3m 44s\n",
      "210:\tlearn: 0.2996490\ttotal: 26.5s\tremaining: 3m 44s\n",
      "211:\tlearn: 0.2994987\ttotal: 26.6s\tremaining: 3m 44s\n",
      "212:\tlearn: 0.2994718\ttotal: 26.7s\tremaining: 3m 44s\n",
      "213:\tlearn: 0.2994400\ttotal: 26.9s\tremaining: 3m 44s\n",
      "214:\tlearn: 0.2993569\ttotal: 27s\tremaining: 3m 44s\n",
      "215:\tlearn: 0.2990964\ttotal: 27.1s\tremaining: 3m 43s\n",
      "216:\tlearn: 0.2989575\ttotal: 27.2s\tremaining: 3m 43s\n",
      "217:\tlearn: 0.2988420\ttotal: 27.4s\tremaining: 3m 43s\n",
      "218:\tlearn: 0.2985786\ttotal: 27.5s\tremaining: 3m 43s\n",
      "219:\tlearn: 0.2984556\ttotal: 27.6s\tremaining: 3m 43s\n",
      "220:\tlearn: 0.2984200\ttotal: 27.7s\tremaining: 3m 43s\n",
      "221:\tlearn: 0.2983660\ttotal: 27.9s\tremaining: 3m 43s\n",
      "222:\tlearn: 0.2983435\ttotal: 28s\tremaining: 3m 42s\n",
      "223:\tlearn: 0.2981996\ttotal: 28.1s\tremaining: 3m 42s\n",
      "224:\tlearn: 0.2980413\ttotal: 28.3s\tremaining: 3m 42s\n",
      "225:\tlearn: 0.2979593\ttotal: 28.4s\tremaining: 3m 43s\n",
      "226:\tlearn: 0.2978542\ttotal: 28.6s\tremaining: 3m 43s\n",
      "227:\tlearn: 0.2976407\ttotal: 28.7s\tremaining: 3m 43s\n",
      "228:\tlearn: 0.2974005\ttotal: 28.8s\tremaining: 3m 43s\n",
      "229:\tlearn: 0.2973003\ttotal: 29s\tremaining: 3m 42s\n",
      "230:\tlearn: 0.2972707\ttotal: 29.1s\tremaining: 3m 42s\n",
      "231:\tlearn: 0.2971566\ttotal: 29.2s\tremaining: 3m 42s\n",
      "232:\tlearn: 0.2971330\ttotal: 29.3s\tremaining: 3m 42s\n",
      "233:\tlearn: 0.2971092\ttotal: 29.4s\tremaining: 3m 42s\n",
      "234:\tlearn: 0.2970893\ttotal: 29.6s\tremaining: 3m 42s\n",
      "235:\tlearn: 0.2970636\ttotal: 29.7s\tremaining: 3m 42s\n",
      "236:\tlearn: 0.2969360\ttotal: 29.9s\tremaining: 3m 42s\n",
      "237:\tlearn: 0.2968628\ttotal: 30s\tremaining: 3m 42s\n",
      "238:\tlearn: 0.2966351\ttotal: 30.1s\tremaining: 3m 41s\n",
      "239:\tlearn: 0.2964601\ttotal: 30.2s\tremaining: 3m 41s\n",
      "240:\tlearn: 0.2961779\ttotal: 30.4s\tremaining: 3m 41s\n",
      "241:\tlearn: 0.2960986\ttotal: 30.5s\tremaining: 3m 41s\n",
      "242:\tlearn: 0.2960765\ttotal: 30.6s\tremaining: 3m 41s\n",
      "243:\tlearn: 0.2960019\ttotal: 30.7s\tremaining: 3m 41s\n",
      "244:\tlearn: 0.2958491\ttotal: 30.9s\tremaining: 3m 41s\n",
      "245:\tlearn: 0.2957420\ttotal: 31s\tremaining: 3m 41s\n",
      "246:\tlearn: 0.2956321\ttotal: 31.2s\tremaining: 3m 41s\n",
      "247:\tlearn: 0.2955616\ttotal: 31.3s\tremaining: 3m 41s\n",
      "248:\tlearn: 0.2954819\ttotal: 31.4s\tremaining: 3m 41s\n",
      "249:\tlearn: 0.2954649\ttotal: 31.6s\tremaining: 3m 40s\n",
      "250:\tlearn: 0.2954408\ttotal: 31.7s\tremaining: 3m 40s\n",
      "251:\tlearn: 0.2953922\ttotal: 31.8s\tremaining: 3m 40s\n",
      "252:\tlearn: 0.2952652\ttotal: 31.9s\tremaining: 3m 40s\n",
      "253:\tlearn: 0.2951685\ttotal: 32.1s\tremaining: 3m 40s\n",
      "254:\tlearn: 0.2951380\ttotal: 32.2s\tremaining: 3m 40s\n",
      "255:\tlearn: 0.2950967\ttotal: 32.3s\tremaining: 3m 40s\n",
      "256:\tlearn: 0.2950680\ttotal: 32.4s\tremaining: 3m 40s\n",
      "257:\tlearn: 0.2950095\ttotal: 32.6s\tremaining: 3m 40s\n",
      "258:\tlearn: 0.2949316\ttotal: 32.7s\tremaining: 3m 40s\n",
      "259:\tlearn: 0.2949048\ttotal: 32.9s\tremaining: 3m 39s\n",
      "260:\tlearn: 0.2948851\ttotal: 33s\tremaining: 3m 39s\n",
      "261:\tlearn: 0.2948101\ttotal: 33.1s\tremaining: 3m 39s\n",
      "262:\tlearn: 0.2947693\ttotal: 33.2s\tremaining: 3m 39s\n",
      "263:\tlearn: 0.2947472\ttotal: 33.3s\tremaining: 3m 39s\n",
      "264:\tlearn: 0.2945710\ttotal: 33.5s\tremaining: 3m 39s\n",
      "265:\tlearn: 0.2945561\ttotal: 33.6s\tremaining: 3m 38s\n",
      "266:\tlearn: 0.2945259\ttotal: 33.7s\tremaining: 3m 38s\n",
      "267:\tlearn: 0.2944043\ttotal: 33.8s\tremaining: 3m 38s\n",
      "268:\tlearn: 0.2943835\ttotal: 34s\tremaining: 3m 38s\n",
      "269:\tlearn: 0.2943641\ttotal: 34.1s\tremaining: 3m 38s\n",
      "270:\tlearn: 0.2943154\ttotal: 34.3s\tremaining: 3m 38s\n",
      "271:\tlearn: 0.2942243\ttotal: 34.4s\tremaining: 3m 38s\n",
      "272:\tlearn: 0.2941057\ttotal: 34.5s\tremaining: 3m 38s\n",
      "273:\tlearn: 0.2939619\ttotal: 34.6s\tremaining: 3m 38s\n",
      "274:\tlearn: 0.2938787\ttotal: 34.8s\tremaining: 3m 38s\n",
      "275:\tlearn: 0.2938573\ttotal: 34.9s\tremaining: 3m 38s\n",
      "276:\tlearn: 0.2938078\ttotal: 35s\tremaining: 3m 38s\n",
      "277:\tlearn: 0.2937887\ttotal: 35.2s\tremaining: 3m 38s\n",
      "278:\tlearn: 0.2937309\ttotal: 35.5s\tremaining: 3m 38s\n",
      "279:\tlearn: 0.2936351\ttotal: 35.8s\tremaining: 3m 39s\n",
      "280:\tlearn: 0.2936110\ttotal: 35.9s\tremaining: 3m 39s\n",
      "281:\tlearn: 0.2935867\ttotal: 36s\tremaining: 3m 39s\n",
      "282:\tlearn: 0.2935272\ttotal: 36.2s\tremaining: 3m 39s\n",
      "283:\tlearn: 0.2934996\ttotal: 36.3s\tremaining: 3m 39s\n",
      "284:\tlearn: 0.2934819\ttotal: 36.4s\tremaining: 3m 38s\n",
      "285:\tlearn: 0.2934616\ttotal: 36.6s\tremaining: 3m 39s\n",
      "286:\tlearn: 0.2933118\ttotal: 36.7s\tremaining: 3m 39s\n",
      "287:\tlearn: 0.2932948\ttotal: 36.9s\tremaining: 3m 39s\n",
      "288:\tlearn: 0.2932505\ttotal: 37s\tremaining: 3m 39s\n",
      "289:\tlearn: 0.2932345\ttotal: 37.2s\tremaining: 3m 39s\n",
      "290:\tlearn: 0.2932173\ttotal: 37.3s\tremaining: 3m 39s\n",
      "291:\tlearn: 0.2931540\ttotal: 37.5s\tremaining: 3m 39s\n",
      "292:\tlearn: 0.2931243\ttotal: 37.6s\tremaining: 3m 39s\n",
      "293:\tlearn: 0.2931047\ttotal: 37.7s\tremaining: 3m 38s\n",
      "294:\tlearn: 0.2929946\ttotal: 37.9s\tremaining: 3m 38s\n",
      "295:\tlearn: 0.2929107\ttotal: 38s\tremaining: 3m 38s\n",
      "296:\tlearn: 0.2928407\ttotal: 38.1s\tremaining: 3m 38s\n",
      "297:\tlearn: 0.2928196\ttotal: 38.3s\tremaining: 3m 38s\n",
      "298:\tlearn: 0.2928007\ttotal: 38.4s\tremaining: 3m 38s\n",
      "299:\tlearn: 0.2927526\ttotal: 38.5s\tremaining: 3m 38s\n",
      "300:\tlearn: 0.2926819\ttotal: 38.7s\tremaining: 3m 38s\n",
      "301:\tlearn: 0.2926512\ttotal: 38.8s\tremaining: 3m 38s\n"
     ]
    },
    {
     "ename": "KeyboardInterrupt",
     "evalue": "",
     "output_type": "error",
     "traceback": [
      "\u001b[1;31m---------------------------------------------------------------------------\u001b[0m",
      "\u001b[1;31mKeyboardInterrupt\u001b[0m                         Traceback (most recent call last)",
      "\u001b[1;32m<ipython-input-67-8b80bfd30f48>\u001b[0m in \u001b[0;36m<module>\u001b[1;34m\u001b[0m\n\u001b[0;32m      1\u001b[0m \u001b[1;31m# fit the stacked model on the train data\u001b[0m\u001b[1;33m\u001b[0m\u001b[1;33m\u001b[0m\u001b[1;33m\u001b[0m\u001b[0m\n\u001b[0;32m      2\u001b[0m \u001b[1;33m\u001b[0m\u001b[0m\n\u001b[1;32m----> 3\u001b[1;33m \u001b[0mmodel\u001b[0m\u001b[1;33m.\u001b[0m\u001b[0mfit\u001b[0m\u001b[1;33m(\u001b[0m\u001b[0mtrainX\u001b[0m\u001b[1;33m,\u001b[0m \u001b[0mtrainY\u001b[0m\u001b[1;33m)\u001b[0m\u001b[1;33m\u001b[0m\u001b[1;33m\u001b[0m\u001b[0m\n\u001b[0m",
      "\u001b[1;32m~\\Anaconda3\\lib\\site-packages\\sklearn\\ensemble\\_stacking.py\u001b[0m in \u001b[0;36mfit\u001b[1;34m(self, X, y, sample_weight)\u001b[0m\n\u001b[0;32m    439\u001b[0m         \u001b[0mself\u001b[0m\u001b[1;33m.\u001b[0m\u001b[0m_le\u001b[0m \u001b[1;33m=\u001b[0m \u001b[0mLabelEncoder\u001b[0m\u001b[1;33m(\u001b[0m\u001b[1;33m)\u001b[0m\u001b[1;33m.\u001b[0m\u001b[0mfit\u001b[0m\u001b[1;33m(\u001b[0m\u001b[0my\u001b[0m\u001b[1;33m)\u001b[0m\u001b[1;33m\u001b[0m\u001b[1;33m\u001b[0m\u001b[0m\n\u001b[0;32m    440\u001b[0m         \u001b[0mself\u001b[0m\u001b[1;33m.\u001b[0m\u001b[0mclasses_\u001b[0m \u001b[1;33m=\u001b[0m \u001b[0mself\u001b[0m\u001b[1;33m.\u001b[0m\u001b[0m_le\u001b[0m\u001b[1;33m.\u001b[0m\u001b[0mclasses_\u001b[0m\u001b[1;33m\u001b[0m\u001b[1;33m\u001b[0m\u001b[0m\n\u001b[1;32m--> 441\u001b[1;33m         \u001b[1;32mreturn\u001b[0m \u001b[0msuper\u001b[0m\u001b[1;33m(\u001b[0m\u001b[1;33m)\u001b[0m\u001b[1;33m.\u001b[0m\u001b[0mfit\u001b[0m\u001b[1;33m(\u001b[0m\u001b[0mX\u001b[0m\u001b[1;33m,\u001b[0m \u001b[0mself\u001b[0m\u001b[1;33m.\u001b[0m\u001b[0m_le\u001b[0m\u001b[1;33m.\u001b[0m\u001b[0mtransform\u001b[0m\u001b[1;33m(\u001b[0m\u001b[0my\u001b[0m\u001b[1;33m)\u001b[0m\u001b[1;33m,\u001b[0m \u001b[0msample_weight\u001b[0m\u001b[1;33m)\u001b[0m\u001b[1;33m\u001b[0m\u001b[1;33m\u001b[0m\u001b[0m\n\u001b[0m\u001b[0;32m    442\u001b[0m \u001b[1;33m\u001b[0m\u001b[0m\n\u001b[0;32m    443\u001b[0m     \u001b[1;33m@\u001b[0m\u001b[0mif_delegate_has_method\u001b[0m\u001b[1;33m(\u001b[0m\u001b[0mdelegate\u001b[0m\u001b[1;33m=\u001b[0m\u001b[1;34m'final_estimator_'\u001b[0m\u001b[1;33m)\u001b[0m\u001b[1;33m\u001b[0m\u001b[1;33m\u001b[0m\u001b[0m\n",
      "\u001b[1;32m~\\Anaconda3\\lib\\site-packages\\sklearn\\ensemble\\_stacking.py\u001b[0m in \u001b[0;36mfit\u001b[1;34m(self, X, y, sample_weight)\u001b[0m\n\u001b[0;32m    147\u001b[0m         self.estimators_ = Parallel(n_jobs=self.n_jobs)(\n\u001b[0;32m    148\u001b[0m             \u001b[0mdelayed\u001b[0m\u001b[1;33m(\u001b[0m\u001b[0m_fit_single_estimator\u001b[0m\u001b[1;33m)\u001b[0m\u001b[1;33m(\u001b[0m\u001b[0mclone\u001b[0m\u001b[1;33m(\u001b[0m\u001b[0mest\u001b[0m\u001b[1;33m)\u001b[0m\u001b[1;33m,\u001b[0m \u001b[0mX\u001b[0m\u001b[1;33m,\u001b[0m \u001b[0my\u001b[0m\u001b[1;33m,\u001b[0m \u001b[0msample_weight\u001b[0m\u001b[1;33m)\u001b[0m\u001b[1;33m\u001b[0m\u001b[1;33m\u001b[0m\u001b[0m\n\u001b[1;32m--> 149\u001b[1;33m             \u001b[1;32mfor\u001b[0m \u001b[0mest\u001b[0m \u001b[1;32min\u001b[0m \u001b[0mall_estimators\u001b[0m \u001b[1;32mif\u001b[0m \u001b[0mest\u001b[0m \u001b[1;33m!=\u001b[0m \u001b[1;34m'drop'\u001b[0m\u001b[1;33m\u001b[0m\u001b[1;33m\u001b[0m\u001b[0m\n\u001b[0m\u001b[0;32m    150\u001b[0m         )\n\u001b[0;32m    151\u001b[0m \u001b[1;33m\u001b[0m\u001b[0m\n",
      "\u001b[1;32m~\\Anaconda3\\lib\\site-packages\\joblib\\parallel.py\u001b[0m in \u001b[0;36m__call__\u001b[1;34m(self, iterable)\u001b[0m\n\u001b[0;32m    922\u001b[0m                 \u001b[0mself\u001b[0m\u001b[1;33m.\u001b[0m\u001b[0m_iterating\u001b[0m \u001b[1;33m=\u001b[0m \u001b[0mself\u001b[0m\u001b[1;33m.\u001b[0m\u001b[0m_original_iterator\u001b[0m \u001b[1;32mis\u001b[0m \u001b[1;32mnot\u001b[0m \u001b[1;32mNone\u001b[0m\u001b[1;33m\u001b[0m\u001b[1;33m\u001b[0m\u001b[0m\n\u001b[0;32m    923\u001b[0m \u001b[1;33m\u001b[0m\u001b[0m\n\u001b[1;32m--> 924\u001b[1;33m             \u001b[1;32mwhile\u001b[0m \u001b[0mself\u001b[0m\u001b[1;33m.\u001b[0m\u001b[0mdispatch_one_batch\u001b[0m\u001b[1;33m(\u001b[0m\u001b[0miterator\u001b[0m\u001b[1;33m)\u001b[0m\u001b[1;33m:\u001b[0m\u001b[1;33m\u001b[0m\u001b[1;33m\u001b[0m\u001b[0m\n\u001b[0m\u001b[0;32m    925\u001b[0m                 \u001b[1;32mpass\u001b[0m\u001b[1;33m\u001b[0m\u001b[1;33m\u001b[0m\u001b[0m\n\u001b[0;32m    926\u001b[0m \u001b[1;33m\u001b[0m\u001b[0m\n",
      "\u001b[1;32m~\\Anaconda3\\lib\\site-packages\\joblib\\parallel.py\u001b[0m in \u001b[0;36mdispatch_one_batch\u001b[1;34m(self, iterator)\u001b[0m\n\u001b[0;32m    757\u001b[0m                 \u001b[1;32mreturn\u001b[0m \u001b[1;32mFalse\u001b[0m\u001b[1;33m\u001b[0m\u001b[1;33m\u001b[0m\u001b[0m\n\u001b[0;32m    758\u001b[0m             \u001b[1;32melse\u001b[0m\u001b[1;33m:\u001b[0m\u001b[1;33m\u001b[0m\u001b[1;33m\u001b[0m\u001b[0m\n\u001b[1;32m--> 759\u001b[1;33m                 \u001b[0mself\u001b[0m\u001b[1;33m.\u001b[0m\u001b[0m_dispatch\u001b[0m\u001b[1;33m(\u001b[0m\u001b[0mtasks\u001b[0m\u001b[1;33m)\u001b[0m\u001b[1;33m\u001b[0m\u001b[1;33m\u001b[0m\u001b[0m\n\u001b[0m\u001b[0;32m    760\u001b[0m                 \u001b[1;32mreturn\u001b[0m \u001b[1;32mTrue\u001b[0m\u001b[1;33m\u001b[0m\u001b[1;33m\u001b[0m\u001b[0m\n\u001b[0;32m    761\u001b[0m \u001b[1;33m\u001b[0m\u001b[0m\n",
      "\u001b[1;32m~\\Anaconda3\\lib\\site-packages\\joblib\\parallel.py\u001b[0m in \u001b[0;36m_dispatch\u001b[1;34m(self, batch)\u001b[0m\n\u001b[0;32m    714\u001b[0m         \u001b[1;32mwith\u001b[0m \u001b[0mself\u001b[0m\u001b[1;33m.\u001b[0m\u001b[0m_lock\u001b[0m\u001b[1;33m:\u001b[0m\u001b[1;33m\u001b[0m\u001b[1;33m\u001b[0m\u001b[0m\n\u001b[0;32m    715\u001b[0m             \u001b[0mjob_idx\u001b[0m \u001b[1;33m=\u001b[0m \u001b[0mlen\u001b[0m\u001b[1;33m(\u001b[0m\u001b[0mself\u001b[0m\u001b[1;33m.\u001b[0m\u001b[0m_jobs\u001b[0m\u001b[1;33m)\u001b[0m\u001b[1;33m\u001b[0m\u001b[1;33m\u001b[0m\u001b[0m\n\u001b[1;32m--> 716\u001b[1;33m             \u001b[0mjob\u001b[0m \u001b[1;33m=\u001b[0m \u001b[0mself\u001b[0m\u001b[1;33m.\u001b[0m\u001b[0m_backend\u001b[0m\u001b[1;33m.\u001b[0m\u001b[0mapply_async\u001b[0m\u001b[1;33m(\u001b[0m\u001b[0mbatch\u001b[0m\u001b[1;33m,\u001b[0m \u001b[0mcallback\u001b[0m\u001b[1;33m=\u001b[0m\u001b[0mcb\u001b[0m\u001b[1;33m)\u001b[0m\u001b[1;33m\u001b[0m\u001b[1;33m\u001b[0m\u001b[0m\n\u001b[0m\u001b[0;32m    717\u001b[0m             \u001b[1;31m# A job can complete so quickly than its callback is\u001b[0m\u001b[1;33m\u001b[0m\u001b[1;33m\u001b[0m\u001b[1;33m\u001b[0m\u001b[0m\n\u001b[0;32m    718\u001b[0m             \u001b[1;31m# called before we get here, causing self._jobs to\u001b[0m\u001b[1;33m\u001b[0m\u001b[1;33m\u001b[0m\u001b[1;33m\u001b[0m\u001b[0m\n",
      "\u001b[1;32m~\\Anaconda3\\lib\\site-packages\\joblib\\_parallel_backends.py\u001b[0m in \u001b[0;36mapply_async\u001b[1;34m(self, func, callback)\u001b[0m\n\u001b[0;32m    180\u001b[0m     \u001b[1;32mdef\u001b[0m \u001b[0mapply_async\u001b[0m\u001b[1;33m(\u001b[0m\u001b[0mself\u001b[0m\u001b[1;33m,\u001b[0m \u001b[0mfunc\u001b[0m\u001b[1;33m,\u001b[0m \u001b[0mcallback\u001b[0m\u001b[1;33m=\u001b[0m\u001b[1;32mNone\u001b[0m\u001b[1;33m)\u001b[0m\u001b[1;33m:\u001b[0m\u001b[1;33m\u001b[0m\u001b[1;33m\u001b[0m\u001b[0m\n\u001b[0;32m    181\u001b[0m         \u001b[1;34m\"\"\"Schedule a func to be run\"\"\"\u001b[0m\u001b[1;33m\u001b[0m\u001b[1;33m\u001b[0m\u001b[0m\n\u001b[1;32m--> 182\u001b[1;33m         \u001b[0mresult\u001b[0m \u001b[1;33m=\u001b[0m \u001b[0mImmediateResult\u001b[0m\u001b[1;33m(\u001b[0m\u001b[0mfunc\u001b[0m\u001b[1;33m)\u001b[0m\u001b[1;33m\u001b[0m\u001b[1;33m\u001b[0m\u001b[0m\n\u001b[0m\u001b[0;32m    183\u001b[0m         \u001b[1;32mif\u001b[0m \u001b[0mcallback\u001b[0m\u001b[1;33m:\u001b[0m\u001b[1;33m\u001b[0m\u001b[1;33m\u001b[0m\u001b[0m\n\u001b[0;32m    184\u001b[0m             \u001b[0mcallback\u001b[0m\u001b[1;33m(\u001b[0m\u001b[0mresult\u001b[0m\u001b[1;33m)\u001b[0m\u001b[1;33m\u001b[0m\u001b[1;33m\u001b[0m\u001b[0m\n",
      "\u001b[1;32m~\\Anaconda3\\lib\\site-packages\\joblib\\_parallel_backends.py\u001b[0m in \u001b[0;36m__init__\u001b[1;34m(self, batch)\u001b[0m\n\u001b[0;32m    547\u001b[0m         \u001b[1;31m# Don't delay the application, to avoid keeping the input\u001b[0m\u001b[1;33m\u001b[0m\u001b[1;33m\u001b[0m\u001b[1;33m\u001b[0m\u001b[0m\n\u001b[0;32m    548\u001b[0m         \u001b[1;31m# arguments in memory\u001b[0m\u001b[1;33m\u001b[0m\u001b[1;33m\u001b[0m\u001b[1;33m\u001b[0m\u001b[0m\n\u001b[1;32m--> 549\u001b[1;33m         \u001b[0mself\u001b[0m\u001b[1;33m.\u001b[0m\u001b[0mresults\u001b[0m \u001b[1;33m=\u001b[0m \u001b[0mbatch\u001b[0m\u001b[1;33m(\u001b[0m\u001b[1;33m)\u001b[0m\u001b[1;33m\u001b[0m\u001b[1;33m\u001b[0m\u001b[0m\n\u001b[0m\u001b[0;32m    550\u001b[0m \u001b[1;33m\u001b[0m\u001b[0m\n\u001b[0;32m    551\u001b[0m     \u001b[1;32mdef\u001b[0m \u001b[0mget\u001b[0m\u001b[1;33m(\u001b[0m\u001b[0mself\u001b[0m\u001b[1;33m)\u001b[0m\u001b[1;33m:\u001b[0m\u001b[1;33m\u001b[0m\u001b[1;33m\u001b[0m\u001b[0m\n",
      "\u001b[1;32m~\\Anaconda3\\lib\\site-packages\\joblib\\parallel.py\u001b[0m in \u001b[0;36m__call__\u001b[1;34m(self)\u001b[0m\n\u001b[0;32m    223\u001b[0m         \u001b[1;32mwith\u001b[0m \u001b[0mparallel_backend\u001b[0m\u001b[1;33m(\u001b[0m\u001b[0mself\u001b[0m\u001b[1;33m.\u001b[0m\u001b[0m_backend\u001b[0m\u001b[1;33m,\u001b[0m \u001b[0mn_jobs\u001b[0m\u001b[1;33m=\u001b[0m\u001b[0mself\u001b[0m\u001b[1;33m.\u001b[0m\u001b[0m_n_jobs\u001b[0m\u001b[1;33m)\u001b[0m\u001b[1;33m:\u001b[0m\u001b[1;33m\u001b[0m\u001b[1;33m\u001b[0m\u001b[0m\n\u001b[0;32m    224\u001b[0m             return [func(*args, **kwargs)\n\u001b[1;32m--> 225\u001b[1;33m                     for func, args, kwargs in self.items]\n\u001b[0m\u001b[0;32m    226\u001b[0m \u001b[1;33m\u001b[0m\u001b[0m\n\u001b[0;32m    227\u001b[0m     \u001b[1;32mdef\u001b[0m \u001b[0m__len__\u001b[0m\u001b[1;33m(\u001b[0m\u001b[0mself\u001b[0m\u001b[1;33m)\u001b[0m\u001b[1;33m:\u001b[0m\u001b[1;33m\u001b[0m\u001b[1;33m\u001b[0m\u001b[0m\n",
      "\u001b[1;32m~\\Anaconda3\\lib\\site-packages\\joblib\\parallel.py\u001b[0m in \u001b[0;36m<listcomp>\u001b[1;34m(.0)\u001b[0m\n\u001b[0;32m    223\u001b[0m         \u001b[1;32mwith\u001b[0m \u001b[0mparallel_backend\u001b[0m\u001b[1;33m(\u001b[0m\u001b[0mself\u001b[0m\u001b[1;33m.\u001b[0m\u001b[0m_backend\u001b[0m\u001b[1;33m,\u001b[0m \u001b[0mn_jobs\u001b[0m\u001b[1;33m=\u001b[0m\u001b[0mself\u001b[0m\u001b[1;33m.\u001b[0m\u001b[0m_n_jobs\u001b[0m\u001b[1;33m)\u001b[0m\u001b[1;33m:\u001b[0m\u001b[1;33m\u001b[0m\u001b[1;33m\u001b[0m\u001b[0m\n\u001b[0;32m    224\u001b[0m             return [func(*args, **kwargs)\n\u001b[1;32m--> 225\u001b[1;33m                     for func, args, kwargs in self.items]\n\u001b[0m\u001b[0;32m    226\u001b[0m \u001b[1;33m\u001b[0m\u001b[0m\n\u001b[0;32m    227\u001b[0m     \u001b[1;32mdef\u001b[0m \u001b[0m__len__\u001b[0m\u001b[1;33m(\u001b[0m\u001b[0mself\u001b[0m\u001b[1;33m)\u001b[0m\u001b[1;33m:\u001b[0m\u001b[1;33m\u001b[0m\u001b[1;33m\u001b[0m\u001b[0m\n",
      "\u001b[1;32m~\\Anaconda3\\lib\\site-packages\\sklearn\\utils\\fixes.py\u001b[0m in \u001b[0;36m__call__\u001b[1;34m(self, *args, **kwargs)\u001b[0m\n\u001b[0;32m    220\u001b[0m     \u001b[1;32mdef\u001b[0m \u001b[0m__call__\u001b[0m\u001b[1;33m(\u001b[0m\u001b[0mself\u001b[0m\u001b[1;33m,\u001b[0m \u001b[1;33m*\u001b[0m\u001b[0margs\u001b[0m\u001b[1;33m,\u001b[0m \u001b[1;33m**\u001b[0m\u001b[0mkwargs\u001b[0m\u001b[1;33m)\u001b[0m\u001b[1;33m:\u001b[0m\u001b[1;33m\u001b[0m\u001b[1;33m\u001b[0m\u001b[0m\n\u001b[0;32m    221\u001b[0m         \u001b[1;32mwith\u001b[0m \u001b[0mconfig_context\u001b[0m\u001b[1;33m(\u001b[0m\u001b[1;33m**\u001b[0m\u001b[0mself\u001b[0m\u001b[1;33m.\u001b[0m\u001b[0mconfig\u001b[0m\u001b[1;33m)\u001b[0m\u001b[1;33m:\u001b[0m\u001b[1;33m\u001b[0m\u001b[1;33m\u001b[0m\u001b[0m\n\u001b[1;32m--> 222\u001b[1;33m             \u001b[1;32mreturn\u001b[0m \u001b[0mself\u001b[0m\u001b[1;33m.\u001b[0m\u001b[0mfunction\u001b[0m\u001b[1;33m(\u001b[0m\u001b[1;33m*\u001b[0m\u001b[0margs\u001b[0m\u001b[1;33m,\u001b[0m \u001b[1;33m**\u001b[0m\u001b[0mkwargs\u001b[0m\u001b[1;33m)\u001b[0m\u001b[1;33m\u001b[0m\u001b[1;33m\u001b[0m\u001b[0m\n\u001b[0m",
      "\u001b[1;32m~\\Anaconda3\\lib\\site-packages\\sklearn\\ensemble\\_base.py\u001b[0m in \u001b[0;36m_fit_single_estimator\u001b[1;34m(estimator, X, y, sample_weight, message_clsname, message)\u001b[0m\n\u001b[0;32m     37\u001b[0m     \u001b[1;32melse\u001b[0m\u001b[1;33m:\u001b[0m\u001b[1;33m\u001b[0m\u001b[1;33m\u001b[0m\u001b[0m\n\u001b[0;32m     38\u001b[0m         \u001b[1;32mwith\u001b[0m \u001b[0m_print_elapsed_time\u001b[0m\u001b[1;33m(\u001b[0m\u001b[0mmessage_clsname\u001b[0m\u001b[1;33m,\u001b[0m \u001b[0mmessage\u001b[0m\u001b[1;33m)\u001b[0m\u001b[1;33m:\u001b[0m\u001b[1;33m\u001b[0m\u001b[1;33m\u001b[0m\u001b[0m\n\u001b[1;32m---> 39\u001b[1;33m             \u001b[0mestimator\u001b[0m\u001b[1;33m.\u001b[0m\u001b[0mfit\u001b[0m\u001b[1;33m(\u001b[0m\u001b[0mX\u001b[0m\u001b[1;33m,\u001b[0m \u001b[0my\u001b[0m\u001b[1;33m)\u001b[0m\u001b[1;33m\u001b[0m\u001b[1;33m\u001b[0m\u001b[0m\n\u001b[0m\u001b[0;32m     40\u001b[0m     \u001b[1;32mreturn\u001b[0m \u001b[0mestimator\u001b[0m\u001b[1;33m\u001b[0m\u001b[1;33m\u001b[0m\u001b[0m\n\u001b[0;32m     41\u001b[0m \u001b[1;33m\u001b[0m\u001b[0m\n",
      "\u001b[1;32m~\\Anaconda3\\lib\\site-packages\\catboost\\core.py\u001b[0m in \u001b[0;36mfit\u001b[1;34m(self, X, y, cat_features, text_features, embedding_features, sample_weight, baseline, use_best_model, eval_set, verbose, logging_level, plot, column_description, verbose_eval, metric_period, silent, early_stopping_rounds, save_snapshot, snapshot_file, snapshot_interval, init_model)\u001b[0m\n\u001b[0;32m   4539\u001b[0m         self._fit(X, y, cat_features, text_features, embedding_features, None, sample_weight, None, None, None, None, baseline, use_best_model,\n\u001b[0;32m   4540\u001b[0m                   \u001b[0meval_set\u001b[0m\u001b[1;33m,\u001b[0m \u001b[0mverbose\u001b[0m\u001b[1;33m,\u001b[0m \u001b[0mlogging_level\u001b[0m\u001b[1;33m,\u001b[0m \u001b[0mplot\u001b[0m\u001b[1;33m,\u001b[0m \u001b[0mcolumn_description\u001b[0m\u001b[1;33m,\u001b[0m \u001b[0mverbose_eval\u001b[0m\u001b[1;33m,\u001b[0m \u001b[0mmetric_period\u001b[0m\u001b[1;33m,\u001b[0m\u001b[1;33m\u001b[0m\u001b[1;33m\u001b[0m\u001b[0m\n\u001b[1;32m-> 4541\u001b[1;33m                   silent, early_stopping_rounds, save_snapshot, snapshot_file, snapshot_interval, init_model)\n\u001b[0m\u001b[0;32m   4542\u001b[0m         \u001b[1;32mreturn\u001b[0m \u001b[0mself\u001b[0m\u001b[1;33m\u001b[0m\u001b[1;33m\u001b[0m\u001b[0m\n\u001b[0;32m   4543\u001b[0m \u001b[1;33m\u001b[0m\u001b[0m\n",
      "\u001b[1;32m~\\Anaconda3\\lib\\site-packages\\catboost\\core.py\u001b[0m in \u001b[0;36m_fit\u001b[1;34m(self, X, y, cat_features, text_features, embedding_features, pairs, sample_weight, group_id, group_weight, subgroup_id, pairs_weight, baseline, use_best_model, eval_set, verbose, logging_level, plot, column_description, verbose_eval, metric_period, silent, early_stopping_rounds, save_snapshot, snapshot_file, snapshot_interval, init_model)\u001b[0m\n\u001b[0;32m   1921\u001b[0m                 \u001b[0mparams\u001b[0m\u001b[1;33m,\u001b[0m\u001b[1;33m\u001b[0m\u001b[1;33m\u001b[0m\u001b[0m\n\u001b[0;32m   1922\u001b[0m                 \u001b[0mallow_clear_pool\u001b[0m\u001b[1;33m,\u001b[0m\u001b[1;33m\u001b[0m\u001b[1;33m\u001b[0m\u001b[0m\n\u001b[1;32m-> 1923\u001b[1;33m                 \u001b[0mtrain_params\u001b[0m\u001b[1;33m[\u001b[0m\u001b[1;34m\"init_model\"\u001b[0m\u001b[1;33m]\u001b[0m\u001b[1;33m\u001b[0m\u001b[1;33m\u001b[0m\u001b[0m\n\u001b[0m\u001b[0;32m   1924\u001b[0m             )\n\u001b[0;32m   1925\u001b[0m \u001b[1;33m\u001b[0m\u001b[0m\n",
      "\u001b[1;32m~\\Anaconda3\\lib\\site-packages\\catboost\\core.py\u001b[0m in \u001b[0;36m_train\u001b[1;34m(self, train_pool, test_pool, params, allow_clear_pool, init_model)\u001b[0m\n\u001b[0;32m   1364\u001b[0m \u001b[1;33m\u001b[0m\u001b[0m\n\u001b[0;32m   1365\u001b[0m     \u001b[1;32mdef\u001b[0m \u001b[0m_train\u001b[0m\u001b[1;33m(\u001b[0m\u001b[0mself\u001b[0m\u001b[1;33m,\u001b[0m \u001b[0mtrain_pool\u001b[0m\u001b[1;33m,\u001b[0m \u001b[0mtest_pool\u001b[0m\u001b[1;33m,\u001b[0m \u001b[0mparams\u001b[0m\u001b[1;33m,\u001b[0m \u001b[0mallow_clear_pool\u001b[0m\u001b[1;33m,\u001b[0m \u001b[0minit_model\u001b[0m\u001b[1;33m)\u001b[0m\u001b[1;33m:\u001b[0m\u001b[1;33m\u001b[0m\u001b[1;33m\u001b[0m\u001b[0m\n\u001b[1;32m-> 1366\u001b[1;33m         \u001b[0mself\u001b[0m\u001b[1;33m.\u001b[0m\u001b[0m_object\u001b[0m\u001b[1;33m.\u001b[0m\u001b[0m_train\u001b[0m\u001b[1;33m(\u001b[0m\u001b[0mtrain_pool\u001b[0m\u001b[1;33m,\u001b[0m \u001b[0mtest_pool\u001b[0m\u001b[1;33m,\u001b[0m \u001b[0mparams\u001b[0m\u001b[1;33m,\u001b[0m \u001b[0mallow_clear_pool\u001b[0m\u001b[1;33m,\u001b[0m \u001b[0minit_model\u001b[0m\u001b[1;33m.\u001b[0m\u001b[0m_object\u001b[0m \u001b[1;32mif\u001b[0m \u001b[0minit_model\u001b[0m \u001b[1;32melse\u001b[0m \u001b[1;32mNone\u001b[0m\u001b[1;33m)\u001b[0m\u001b[1;33m\u001b[0m\u001b[1;33m\u001b[0m\u001b[0m\n\u001b[0m\u001b[0;32m   1367\u001b[0m         \u001b[0mself\u001b[0m\u001b[1;33m.\u001b[0m\u001b[0m_set_trained_model_attributes\u001b[0m\u001b[1;33m(\u001b[0m\u001b[1;33m)\u001b[0m\u001b[1;33m\u001b[0m\u001b[1;33m\u001b[0m\u001b[0m\n\u001b[0;32m   1368\u001b[0m \u001b[1;33m\u001b[0m\u001b[0m\n",
      "\u001b[1;32m_catboost.pyx\u001b[0m in \u001b[0;36m_catboost._CatBoost._train\u001b[1;34m()\u001b[0m\n",
      "\u001b[1;32m_catboost.pyx\u001b[0m in \u001b[0;36m_catboost._CatBoost._train\u001b[1;34m()\u001b[0m\n",
      "\u001b[1;31mKeyboardInterrupt\u001b[0m: "
     ]
    }
   ],
   "source": [
    "# fit the stacked model on the train data\n",
    "\n",
    "model.fit(trainX, trainY)"
   ]
  },
  {
   "cell_type": "markdown",
   "metadata": {},
   "source": [
    "## Model Evaluation"
   ]
  },
  {
   "cell_type": "code",
   "execution_count": null,
   "metadata": {
    "execution": {
     "iopub.execute_input": "2021-05-30T13:42:44.250023Z",
     "iopub.status.busy": "2021-05-30T13:42:44.249625Z",
     "iopub.status.idle": "2021-05-30T13:42:51.029478Z",
     "shell.execute_reply": "2021-05-30T13:42:51.028441Z",
     "shell.execute_reply.started": "2021-05-30T13:42:44.249989Z"
    }
   },
   "outputs": [],
   "source": [
    "# make predictions with the fitted model on validation set\n",
    "\n",
    "predY = model.predict(validX)"
   ]
  },
  {
   "cell_type": "code",
   "execution_count": null,
   "metadata": {
    "execution": {
     "iopub.execute_input": "2021-05-30T13:43:14.800559Z",
     "iopub.status.busy": "2021-05-30T13:43:14.800207Z",
     "iopub.status.idle": "2021-05-30T13:43:21.69061Z",
     "shell.execute_reply": "2021-05-30T13:43:21.689691Z",
     "shell.execute_reply.started": "2021-05-30T13:43:14.800524Z"
    }
   },
   "outputs": [],
   "source": [
    "# Generate the model evaluation reports\n",
    "\n",
    "generate_model_report(validY, predY)\n",
    "generate_auc_roc_curve(model, validX, validY)"
   ]
  },
  {
   "cell_type": "markdown",
   "metadata": {},
   "source": [
    "## Save the Model"
   ]
  },
  {
   "cell_type": "code",
   "execution_count": null,
   "metadata": {},
   "outputs": [],
   "source": [
    "import pickle\n",
    "\n",
    "# save the model to disk\n",
    "filename = 'finalized_model.sav'\n",
    "pickle.dump(model, open(filename, 'wb'))\n",
    "\n",
    "# # load the model from disk\n",
    "# loaded_model = pickle.load(open(filename, 'rb'))\n",
    "# result = loaded_model.score(X_test, Y_test)\n",
    "# print(result)"
   ]
  },
  {
   "cell_type": "markdown",
   "metadata": {},
   "source": [
    "## Make Submission"
   ]
  },
  {
   "cell_type": "code",
   "execution_count": null,
   "metadata": {
    "execution": {
     "iopub.execute_input": "2021-05-30T10:28:05.598782Z",
     "iopub.status.busy": "2021-05-30T10:28:05.598423Z",
     "iopub.status.idle": "2021-05-30T10:28:11.563474Z",
     "shell.execute_reply": "2021-05-30T10:28:11.562695Z",
     "shell.execute_reply.started": "2021-05-30T10:28:05.59873Z"
    }
   },
   "outputs": [],
   "source": [
    "submission = pd.read_csv(r'../input/jobathon-data/sample_submission_eyYijxG.csv')\n",
    "final_predictions = model.predict_proba(testX)"
   ]
  },
  {
   "cell_type": "code",
   "execution_count": null,
   "metadata": {
    "execution": {
     "iopub.execute_input": "2021-05-30T10:30:26.290785Z",
     "iopub.status.busy": "2021-05-30T10:30:26.290439Z",
     "iopub.status.idle": "2021-05-30T10:30:26.296884Z",
     "shell.execute_reply": "2021-05-30T10:30:26.296003Z",
     "shell.execute_reply.started": "2021-05-30T10:30:26.290753Z"
    }
   },
   "outputs": [],
   "source": [
    "final_predictions[:,1]"
   ]
  },
  {
   "cell_type": "code",
   "execution_count": null,
   "metadata": {
    "execution": {
     "iopub.execute_input": "2021-05-30T10:31:42.66053Z",
     "iopub.status.busy": "2021-05-30T10:31:42.660154Z",
     "iopub.status.idle": "2021-05-30T10:31:43.218117Z",
     "shell.execute_reply": "2021-05-30T10:31:43.21727Z",
     "shell.execute_reply.started": "2021-05-30T10:31:42.6605Z"
    }
   },
   "outputs": [],
   "source": [
    "submission['Is_Lead'] = final_predictions[:,1]\n",
    "submission.to_csv('my_submission.csv', index=False)"
   ]
  }
 ],
 "metadata": {
  "kernelspec": {
   "display_name": "Python 3",
   "language": "python",
   "name": "python3"
  },
  "language_info": {
   "codemirror_mode": {
    "name": "ipython",
    "version": 3
   },
   "file_extension": ".py",
   "mimetype": "text/x-python",
   "name": "python",
   "nbconvert_exporter": "python",
   "pygments_lexer": "ipython3",
   "version": "3.7.4"
  }
 },
 "nbformat": 4,
 "nbformat_minor": 4
}
